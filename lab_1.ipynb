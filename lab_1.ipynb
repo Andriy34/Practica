{
 "cells": [
  {
   "cell_type": "code",
   "id": "cd79dc9b",
   "metadata": {
    "ExecuteTime": {
     "end_time": "2024-05-29T05:05:21.959074Z",
     "start_time": "2024-05-29T05:05:21.940204Z"
    }
   },
   "source": [
    "import re"
   ],
   "outputs": [],
   "execution_count": 2
  },
  {
   "cell_type": "markdown",
   "id": "b8803ed9",
   "metadata": {},
   "source": [
    "# TASK 1"
   ]
  },
  {
   "cell_type": "code",
   "id": "b9d546fa",
   "metadata": {
    "ExecuteTime": {
     "end_time": "2024-05-29T05:05:31.882513Z",
     "start_time": "2024-05-29T05:05:31.844239Z"
    }
   },
   "source": [
    "text = \"\"\"Regular expressions (called REs, or regexes, or regex patterns) are essentially a tiny, highly specialized programming language embedded inside Python and made available through the re module. Using this little language, you specify the rules for the set of possible strings that you want to match; this set might contain English sentences, or e-mail addresses, or TeX commands, or anything you like. You can then ask questions such as “Does this string match the pattern?”, or “Is there a match for the pattern anywhere in this string?”. You can also use REs to modify a string or to split it apart in various ways.\n",
    "\n",
    "Regular expression patterns are compiled into a series of bytecodes which are then executed by a matching engine written in C. For advanced use, it may be necessary to pay careful attention to how the engine will execute a given RE, and write the RE in a certain way in order to produce bytecode that runs faster. Optimization isn’t covered in this document, because it requires that you have a good understanding of the matching engine’s internals.\n",
    "\n",
    "The regular expression language is relatively small and restricted, so not all possible string processing tasks can be done using regular expressions. There are also tasks that can be done with regular expressions, but the expressions turn out to be very complicated. In these cases, you may be better off writing Python code to do the processing; while Python code will be slower than an elaborate regular expression, it will also probably be more understandable.\"\"\"\n",
    "x = re.sub(r'\\W', ' ', text)\n",
    "x"
   ],
   "outputs": [
    {
     "data": {
      "text/plain": [
       "'Regular expressions  called REs  or regexes  or regex patterns  are essentially a tiny  highly specialized programming language embedded inside Python and made available through the re module  Using this little language  you specify the rules for the set of possible strings that you want to match  this set might contain English sentences  or e mail addresses  or TeX commands  or anything you like  You can then ask questions such as  Does this string match the pattern    or  Is there a match for the pattern anywhere in this string    You can also use REs to modify a string or to split it apart in various ways   Regular expression patterns are compiled into a series of bytecodes which are then executed by a matching engine written in C  For advanced use  it may be necessary to pay careful attention to how the engine will execute a given RE  and write the RE in a certain way in order to produce bytecode that runs faster  Optimization isn t covered in this document  because it requires that you have a good understanding of the matching engine s internals   The regular expression language is relatively small and restricted  so not all possible string processing tasks can be done using regular expressions  There are also tasks that can be done with regular expressions  but the expressions turn out to be very complicated  In these cases  you may be better off writing Python code to do the processing  while Python code will be slower than an elaborate regular expression  it will also probably be more understandable '"
      ]
     },
     "execution_count": 3,
     "metadata": {},
     "output_type": "execute_result"
    }
   ],
   "execution_count": 3
  },
  {
   "cell_type": "code",
   "id": "2065216c",
   "metadata": {
    "ExecuteTime": {
     "end_time": "2024-05-29T05:05:40.556547Z",
     "start_time": "2024-05-29T05:05:36.928530Z"
    }
   },
   "source": [
    "x = input(\"enter a letter: \")\n",
    "t = re.search(r'\\w{0,}'+x+r'\\w{0,}', text)\n",
    "t"
   ],
   "outputs": [
    {
     "data": {
      "text/plain": [
       "<re.Match object; span=(0, 7), match='Regular'>"
      ]
     },
     "execution_count": 4,
     "metadata": {},
     "output_type": "execute_result"
    }
   ],
   "execution_count": 4
  },
  {
   "cell_type": "code",
   "id": "d89c28d6",
   "metadata": {
    "ExecuteTime": {
     "end_time": "2024-05-29T05:05:47.465325Z",
     "start_time": "2024-05-29T05:05:42.936679Z"
    }
   },
   "source": [
    "n = int(input(\"enter n: \"))\n",
    "n1 = re.search(r' {0,}\\w{'+f'{n}'+r'} ' , text)\n",
    "n1"
   ],
   "outputs": [
    {
     "data": {
      "text/plain": [
       "<re.Match object; span=(3, 8), match='ular '>"
      ]
     },
     "execution_count": 5,
     "metadata": {},
     "output_type": "execute_result"
    }
   ],
   "execution_count": 5
  },
  {
   "cell_type": "code",
   "id": "4ee4e8b3",
   "metadata": {
    "ExecuteTime": {
     "end_time": "2024-05-29T05:05:50.150395Z",
     "start_time": "2024-05-29T05:05:50.139614Z"
    }
   },
   "source": [
    "pattern = r'\\b[a|b]\\w*s\\b'\n",
    "matches = re.findall(pattern, text)\n",
    "matches"
   ],
   "outputs": [
    {
     "data": {
      "text/plain": [
       "['addresses', 'as', 'bytecodes']"
      ]
     },
     "execution_count": 6,
     "metadata": {},
     "output_type": "execute_result"
    }
   ],
   "execution_count": 6
  },
  {
   "cell_type": "markdown",
   "id": "00109470",
   "metadata": {},
   "source": [
    "# TASK 2"
   ]
  },
  {
   "cell_type": "code",
   "id": "849920b4",
   "metadata": {
    "ExecuteTime": {
     "end_time": "2024-05-29T05:05:51.978037Z",
     "start_time": "2024-05-29T05:05:51.952594Z"
    }
   },
   "source": [
    "def extract_monetary_amounts(text):\n",
    "    pattern = r'\\$\\d+(?:\\.\\d{2})?'\n",
    "    amounts = re.findall(pattern, text)\n",
    "    return [float(amount[1:]) for amount in amounts]\n",
    "\n",
    "text = \"first amount is $123.45, second amount is $400\"\n",
    "monetary_amounts = extract_monetary_amounts(text)\n",
    "print(monetary_amounts)  "
   ],
   "outputs": [
    {
     "name": "stdout",
     "output_type": "stream",
     "text": [
      "[123.45, 400.0]\n"
     ]
    }
   ],
   "execution_count": 7
  },
  {
   "cell_type": "code",
   "id": "ee0f58c9",
   "metadata": {
    "ExecuteTime": {
     "end_time": "2024-05-29T05:05:53.062392Z",
     "start_time": "2024-05-29T05:05:53.048578Z"
    }
   },
   "source": [
    "def extract_monetary_amounts(text):\n",
    "    pattern = r'\\$\\d+(?:\\.\\d{2})?'\n",
    "    amounts = re.findall(pattern, text)\n",
    "    return [float(amount[1:]) for amount in amounts]\n",
    "\n",
    "text = \"first amount is $123.45, second amount is $400\"\n",
    "monetary_amounts = extract_monetary_amounts(text)\n",
    "print(monetary_amounts)  "
   ],
   "outputs": [
    {
     "name": "stdout",
     "output_type": "stream",
     "text": [
      "[123.45, 400.0]\n"
     ]
    }
   ],
   "execution_count": 8
  },
  {
   "cell_type": "code",
   "id": "0d76ae1e",
   "metadata": {
    "ExecuteTime": {
     "end_time": "2024-05-29T05:05:54.670995Z",
     "start_time": "2024-05-29T05:05:54.654609Z"
    }
   },
   "source": [
    "def extract_monetary_amounts(text):\n",
    "    pattern = r'\\$\\d+(?:\\.\\d{2})?'\n",
    "    amounts = re.findall(pattern, text)\n",
    "    return [float(amount[1:]) for amount in amounts]\n",
    "\n",
    "def sum_monetary_amounts(text):\n",
    "    monetary_amounts = extract_monetary_amounts(text)\n",
    "    return sum(monetary_amounts)\n",
    "\n",
    "text = \"first amount is $123.45, second amount is $400\"\n",
    "total_amount = sum_monetary_amounts(text)\n",
    "print(\"Total amount:\", total_amount)  "
   ],
   "outputs": [
    {
     "name": "stdout",
     "output_type": "stream",
     "text": [
      "Total amount: 523.45\n"
     ]
    }
   ],
   "execution_count": 9
  },
  {
   "cell_type": "markdown",
   "id": "5757250f",
   "metadata": {},
   "source": [
    "# TASK 3"
   ]
  },
  {
   "cell_type": "code",
   "id": "44a848c9",
   "metadata": {
    "ExecuteTime": {
     "end_time": "2024-05-29T05:05:57.042784Z",
     "start_time": "2024-05-29T05:05:57.024545Z"
    }
   },
   "source": [
    "def remove_comments(source_code):\n",
    "    pattern = r'#.*?$|(\\'\\'\\'(.*?)\\'\\'\\'|\\\"\\\"\\\"(.*?)\\\"\\\"\\\")'\n",
    "    cleaned_code = re.sub(pattern, '', source_code, flags=re.MULTILINE | re.DOTALL)\n",
    "    return cleaned_code\n",
    "\n",
    "source_code = \"\"\"\n",
    "# This is a comment\n",
    "print('Hello, World!')  # This is also a comment\n",
    "'''\n",
    "\n",
    "This is a multi-line comment\n",
    "'''\n",
    "\n",
    "\"\"\"\n",
    "cleaned_code = remove_comments(source_code)\n",
    "print(cleaned_code)"
   ],
   "outputs": [
    {
     "name": "stdout",
     "output_type": "stream",
     "text": [
      "\n",
      "\n",
      "print('Hello, World!')  \n",
      "\n",
      "\n",
      "\n"
     ]
    }
   ],
   "execution_count": 10
  },
  {
   "cell_type": "code",
   "id": "a16ba060",
   "metadata": {
    "ExecuteTime": {
     "end_time": "2024-05-29T05:06:16.252694Z",
     "start_time": "2024-05-29T05:06:16.173679Z"
    }
   },
   "source": [
    "def cleanup_python_code(source_code):\n",
    "    pattern_comments = r'#.*?$|(\\'\\'\\'(.*?)\\'\\'\\'|\\\"\\\"\\\"(.*?)\\\"\\\"\\\")'\n",
    "    cleaned_code = re.sub(pattern_comments, '', source_code, flags=re.MULTILINE | re.DOTALL)\n",
    "    cleaned_code = re.sub(r'\\n\\s*\\n', '\\n', cleaned_code)\n",
    "    return cleaned_code\n",
    "\n",
    "source_code = \"\"\"\n",
    "# This is a comment\n",
    "print('Hello, World!')  # This is also a comment\n",
    "'''\n",
    "\n",
    "This is a multi-line comment\n",
    "'''\n",
    "\n",
    "\"\"\"\n",
    "\n",
    "cleaned_code = cleanup_python_code(source_code)\n",
    "print(cleaned_code)"
   ],
   "outputs": [
    {
     "name": "stdout",
     "output_type": "stream",
     "text": [
      "\n",
      "print('Hello, World!')  \n",
      "\n"
     ]
    }
   ],
   "execution_count": 11
  },
  {
   "cell_type": "markdown",
   "id": "d686e23a",
   "metadata": {},
   "source": [
    "# TASK 4"
   ]
  },
  {
   "cell_type": "code",
   "id": "182f7ca8",
   "metadata": {
    "ExecuteTime": {
     "end_time": "2024-05-29T05:06:20.496098Z",
     "start_time": "2024-05-29T05:06:20.470278Z"
    }
   },
   "source": [
    "def convert_date_format(date_str):\n",
    "    pattern = r'(\\d{4})-(\\d{2})-(\\d{2})'\n",
    "    formatted_date = re.sub(pattern, r'\\3-\\2-\\1', date_str)\n",
    "    return formatted_date\n",
    "\n",
    "input_date = \"2024-02-11\"\n",
    "output_date = convert_date_format(input_date)\n",
    "print( output_date)  "
   ],
   "outputs": [
    {
     "name": "stdout",
     "output_type": "stream",
     "text": [
      "11-02-2024\n"
     ]
    }
   ],
   "execution_count": 12
  },
  {
   "cell_type": "code",
   "execution_count": null,
   "id": "6cd2a685",
   "metadata": {},
   "outputs": [],
   "source": []
  }
 ],
 "metadata": {
  "kernelspec": {
   "display_name": "Python 3 (ipykernel)",
   "language": "python",
   "name": "python3"
  },
  "language_info": {
   "codemirror_mode": {
    "name": "ipython",
    "version": 3
   },
   "file_extension": ".py",
   "mimetype": "text/x-python",
   "name": "python",
   "nbconvert_exporter": "python",
   "pygments_lexer": "ipython3",
   "version": "3.11.5"
  }
 },
 "nbformat": 4,
 "nbformat_minor": 5
}
