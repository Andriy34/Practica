{
 "cells": [
  {
   "cell_type": "code",
   "id": "70a4cd57",
   "metadata": {
    "ExecuteTime": {
     "end_time": "2024-05-29T05:17:40.457859Z",
     "start_time": "2024-05-29T05:17:40.446475Z"
    }
   },
   "source": [
    "from enum import Enum"
   ],
   "outputs": [],
   "execution_count": 1
  },
  {
   "cell_type": "code",
   "id": "1d62a9a1",
   "metadata": {
    "ExecuteTime": {
     "end_time": "2024-05-29T05:17:40.473837Z",
     "start_time": "2024-05-29T05:17:40.464850Z"
    }
   },
   "source": [
    "from typing import List"
   ],
   "outputs": [],
   "execution_count": 2
  },
  {
   "cell_type": "code",
   "id": "d564fb3e",
   "metadata": {
    "ExecuteTime": {
     "end_time": "2024-05-29T05:17:42.029049Z",
     "start_time": "2024-05-29T05:17:42.012404Z"
    }
   },
   "source": [
    "import sqlite3"
   ],
   "outputs": [],
   "execution_count": 3
  },
  {
   "cell_type": "code",
   "id": "3121a3ca",
   "metadata": {
    "ExecuteTime": {
     "end_time": "2024-05-29T05:17:43.708970Z",
     "start_time": "2024-05-29T05:17:43.681037Z"
    }
   },
   "source": [
    "class Genre:\n",
    "    FANTASY = \"Fantasy\"\n",
    "    ADVENTURE = \"Adventure\"\n",
    "    HORROR = \"Horror\"\n",
    "    MYSTIC = \"Mystic\"\n",
    "    SCI_FI = \"Sci-Fi\"\n",
    "    DRAMA = \"Drama\"\n",
    "\n",
    "class Director:\n",
    "    def __init__(self, first_name, last_name):\n",
    "        self.first_name = first_name\n",
    "        self.last_name = last_name\n",
    "\n",
    "class Film:\n",
    "    def __init__(self, name, year, genre, rating, director):\n",
    "        self.name = name\n",
    "        self.year = year\n",
    "        self.genre = genre\n",
    "        self.rating = rating\n",
    "        self.director = director\n",
    "\n",
    "film1 = Film(\"The Hunger Games\", 2012, {Genre.FANTASY, Genre.ADVENTURE}, 7.2, Director(\"Nina\", \"Jacobson\"))\n",
    "film2 = Film(\"The Nun\", 2018, {Genre.HORROR, Genre.MYSTIC}, 5.3, Director(\"Peter\", \"Saffran\"))\n",
    "film3 = Film(\"Stranger Things\", 2016, {Genre.SCI_FI, Genre.HORROR, Genre.DRAMA}, 8.7, Director(\"Mett\", \"Daffer\"))\n",
    "\n",
    "films = {\"The Hunger Games\": film1, \"The Nun\": film2, \"Stranger Things\": film3}\n",
    "\n",
    "for film_name, film in films.items():\n",
    "    print(\"Name:\", film.name)\n",
    "    print(\"Year:\", film.year)\n",
    "    print(\"Genre:\", film.genre)\n",
    "    print(\"Rating:\", film.rating)\n",
    "    print(\"Director:\", film.director.first_name, film.director.last_name)\n",
    "    print()\n"
   ],
   "outputs": [
    {
     "name": "stdout",
     "output_type": "stream",
     "text": [
      "Name: The Hunger Games\n",
      "Year: 2012\n",
      "Genre: {'Adventure', 'Fantasy'}\n",
      "Rating: 7.2\n",
      "Director: Nina Jacobson\n",
      "\n",
      "Name: The Nun\n",
      "Year: 2018\n",
      "Genre: {'Horror', 'Mystic'}\n",
      "Rating: 5.3\n",
      "Director: Peter Saffran\n",
      "\n",
      "Name: Stranger Things\n",
      "Year: 2016\n",
      "Genre: {'Horror', 'Sci-Fi', 'Drama'}\n",
      "Rating: 8.7\n",
      "Director: Mett Daffer\n",
      "\n"
     ]
    }
   ],
   "execution_count": 4
  },
  {
   "cell_type": "code",
   "id": "81e55ef5",
   "metadata": {
    "ExecuteTime": {
     "end_time": "2024-05-29T05:17:47.457039Z",
     "start_time": "2024-05-29T05:17:47.416485Z"
    }
   },
   "source": [
    "class Genre(Enum):\n",
    "    DRAMA = \"Drama\"\n",
    "    THRILLER = \"Thriller\"\n",
    "    FANTASY = \"Fantasy\"\n",
    "    ADVENTURE = \"Adventure\"\n",
    "    HORROR = \"Horror\"\n",
    "    \n",
    "class Director:\n",
    "    def __init__(self, name : str):\n",
    "        self.name = name\n",
    "\n",
    "class Movie:\n",
    "    def __init__(self, title : str, director : Director, year : int, genres : List[Genre]):\n",
    "        self.title = title\n",
    "        self.director = director\n",
    "        self.year = year\n",
    "        self.genres = genres\n",
    "\n",
    "    def __str__(self):\n",
    "        return f\"{self.title} ({self.year}) directed by {self.director.name}\"\n",
    "\n",
    "    def add_genre(self, genre):\n",
    "        self.genres.append(genre)\n",
    "\n",
    "    def remove_genre(self, genre):\n",
    "        if genre in self.genres:\n",
    "            self.genres.remove(genre)\n",
    "   \n",
    "    @classmethod\n",
    "    def pretty_print(cls, movie):\n",
    "        print(f\"Title: {movie.title}\")\n",
    "        print(f\"Year: {movie.year}\")\n",
    "        print(f\"Director: {movie.director.name}\")\n",
    "        print(\"Genres:\")\n",
    "        for genre in movie.genres:\n",
    "            print(f\"- {genre.value}\")\n",
    "        print() \n",
    "\n",
    "director1 = Director(\"Nina Jacobson\")\n",
    "director2 = Director(\"Mett Daffer\")\n",
    "director3 = Director(\"Peter Saffran\")\n",
    "\n",
    "film1 = Movie(\"The Hunger Games\", director1, 2012, [Genre.DRAMA, Genre.THRILLER])\n",
    "film2 = Movie(\"Strange Things\", director2, 2016, [Genre.FANTASY, Genre.ADVENTURE])\n",
    "film3 = Movie(\"The Nun\", director3, 2018, [Genre.HORROR])\n",
    "\n",
    "print(film1)\n",
    "print(film2)\n",
    "print(film3)\n",
    "\n",
    "Movie.pretty_print(film1)\n",
    "Movie.pretty_print(film2)\n",
    "Movie.pretty_print(film3)"
   ],
   "outputs": [
    {
     "name": "stdout",
     "output_type": "stream",
     "text": [
      "The Hunger Games (2012) directed by Nina Jacobson\n",
      "Strange Things (2016) directed by Mett Daffer\n",
      "The Nun (2018) directed by Peter Saffran\n",
      "Title: The Hunger Games\n",
      "Year: 2012\n",
      "Director: Nina Jacobson\n",
      "Genres:\n",
      "- Drama\n",
      "- Thriller\n",
      "\n",
      "Title: Strange Things\n",
      "Year: 2016\n",
      "Director: Mett Daffer\n",
      "Genres:\n",
      "- Fantasy\n",
      "- Adventure\n",
      "\n",
      "Title: The Nun\n",
      "Year: 2018\n",
      "Director: Peter Saffran\n",
      "Genres:\n",
      "- Horror\n",
      "\n"
     ]
    }
   ],
   "execution_count": 5
  },
  {
   "metadata": {
    "ExecuteTime": {
     "end_time": "2024-05-29T05:18:09.046235Z",
     "start_time": "2024-05-29T05:18:09.038422Z"
    }
   },
   "cell_type": "code",
   "source": "",
   "id": "b28b9a22554763c2",
   "outputs": [],
   "execution_count": 5
  },
  {
   "metadata": {
    "ExecuteTime": {
     "end_time": "2024-05-29T05:53:14.140125Z",
     "start_time": "2024-05-29T05:53:12.879883Z"
    }
   },
   "cell_type": "code",
   "source": [
    "Movie.removeTable()\n",
    "Movie.create_table()\n",
    "\n",
    "# Example usage:\n",
    "# Inserting records\n",
    "\n",
    "m1.insert_record()\n",
    "m2.insert_record()\n",
    "\n",
    "# Selecting all records\n",
    "print(\"All records:\")\n",
    "print(Movie.select_all())\n",
    "\n",
    "# Updating a record\n",
    "Movie.update_record(\"Inception\", 90)\n",
    "print(\"After updating Inception's rating:\")\n",
    "print(Movie.select_all())\n",
    "\n",
    "# Deleting a record\n",
    "Movie.delete_record(\"Pulp Fiction\")\n",
    "print(\"After deleting Pulp Fiction:\")\n",
    "print(Movie.select_all())"
   ],
   "id": "7bc165b837d4544b",
   "outputs": [
    {
     "ename": "AttributeError",
     "evalue": "type object 'Movie' has no attribute 'removeTable'",
     "output_type": "error",
     "traceback": [
      "\u001B[1;31m---------------------------------------------------------------------------\u001B[0m",
      "\u001B[1;31mAttributeError\u001B[0m                            Traceback (most recent call last)",
      "Cell \u001B[1;32mIn[6], line 1\u001B[0m\n\u001B[1;32m----> 1\u001B[0m \u001B[43mMovie\u001B[49m\u001B[38;5;241;43m.\u001B[39;49m\u001B[43mremoveTable\u001B[49m()\n\u001B[0;32m      2\u001B[0m Movie\u001B[38;5;241m.\u001B[39mcreate_table()\n\u001B[0;32m      4\u001B[0m \u001B[38;5;66;03m# Example usage:\u001B[39;00m\n\u001B[0;32m      5\u001B[0m \u001B[38;5;66;03m# Inserting records\u001B[39;00m\n",
      "\u001B[1;31mAttributeError\u001B[0m: type object 'Movie' has no attribute 'removeTable'"
     ]
    }
   ],
   "execution_count": 6
  },
  {
   "metadata": {},
   "cell_type": "code",
   "outputs": [],
   "execution_count": null,
   "source": "",
   "id": "fcc9f5b4bcd80002"
  }
 ],
 "metadata": {
  "kernelspec": {
   "display_name": "Python 3 (ipykernel)",
   "language": "python",
   "name": "python3"
  },
  "language_info": {
   "codemirror_mode": {
    "name": "ipython",
    "version": 3
   },
   "file_extension": ".py",
   "mimetype": "text/x-python",
   "name": "python",
   "nbconvert_exporter": "python",
   "pygments_lexer": "ipython3",
   "version": "3.11.5"
  }
 },
 "nbformat": 4,
 "nbformat_minor": 5
}
